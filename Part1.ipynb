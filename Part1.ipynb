{
 "cells": [
  {
   "attachments": {},
   "cell_type": "markdown",
   "id": "30f78d61",
   "metadata": {},
   "source": [
    "### Step 1 상자로서의 변수\n",
    "- 벡터의 차원 == 벡터의 원소 수\n",
    "- 배열의 차원 == 축의 개수\n",
    "\n",
    "    ex) `np.array([1, 2, 3])`은 3차원 벡터이고 1차원 배열이다"
   ]
  },
  {
   "cell_type": "code",
   "execution_count": 13,
   "id": "caef6a77",
   "metadata": {},
   "outputs": [],
   "source": [
    "class Variable:\n",
    "    def __init__(self, data):\n",
    "        self.data = data"
   ]
  },
  {
   "cell_type": "code",
   "execution_count": 14,
   "id": "a9d7f224",
   "metadata": {},
   "outputs": [
    {
     "name": "stdout",
     "output_type": "stream",
     "text": [
      "1.0\n"
     ]
    }
   ],
   "source": [
    "import numpy as np\n",
    "\n",
    "data = np.array(1.0)\n",
    "x = Variable(data)\n",
    "print(x.data)"
   ]
  },
  {
   "cell_type": "code",
   "execution_count": 15,
   "id": "5b2ba2e6",
   "metadata": {},
   "outputs": [
    {
     "name": "stdout",
     "output_type": "stream",
     "text": [
      "2.0\n"
     ]
    }
   ],
   "source": [
    "x.data = np.array(2.0)\n",
    "print(x.data)"
   ]
  },
  {
   "cell_type": "code",
   "execution_count": 16,
   "id": "25c3b274",
   "metadata": {},
   "outputs": [
    {
     "data": {
      "text/plain": [
       "0"
      ]
     },
     "execution_count": 16,
     "metadata": {},
     "output_type": "execute_result"
    }
   ],
   "source": [
    "import numpy as np\n",
    "x = np.array(1)\n",
    "x.ndim"
   ]
  },
  {
   "cell_type": "code",
   "execution_count": 17,
   "id": "ed06df08",
   "metadata": {},
   "outputs": [
    {
     "data": {
      "text/plain": [
       "1"
      ]
     },
     "execution_count": 17,
     "metadata": {},
     "output_type": "execute_result"
    }
   ],
   "source": [
    "x = np.array([1, 2, 3])\n",
    "x.ndim"
   ]
  },
  {
   "cell_type": "code",
   "execution_count": 18,
   "id": "19feccd4",
   "metadata": {},
   "outputs": [
    {
     "data": {
      "text/plain": [
       "2"
      ]
     },
     "execution_count": 18,
     "metadata": {},
     "output_type": "execute_result"
    }
   ],
   "source": [
    "x = np.array([[1, 2, 3],\n",
    "              [4, 5, 6]])\n",
    "x.ndim"
   ]
  },
  {
   "attachments": {},
   "cell_type": "markdown",
   "id": "7055d170",
   "metadata": {},
   "source": [
    "### Step 2 변수를 낳는 함수\n",
    "```\n",
    "def forward(self, x):\n",
    "    raise NotImplementedError()\n",
    "``` \n",
    "\n",
    "위와 같이 예외를 발생시키면 해당 메서드는 상속하여 구현해야 한다는 사실을 알려줄 수 있다"
   ]
  },
  {
   "cell_type": "code",
   "execution_count": 19,
   "id": "144d6e5f",
   "metadata": {},
   "outputs": [],
   "source": [
    "class Function:\n",
    "    def __call__(self, input):\n",
    "        x = input.data\n",
    "        y = x ** 2\n",
    "        output = Variable(y)\n",
    "        return output"
   ]
  },
  {
   "cell_type": "code",
   "execution_count": 20,
   "id": "410e776d",
   "metadata": {},
   "outputs": [
    {
     "name": "stdout",
     "output_type": "stream",
     "text": [
      "<class '__main__.Variable'>\n",
      "100\n"
     ]
    }
   ],
   "source": [
    "x = Variable(np.array(10))\n",
    "f = Function()\n",
    "y = f(x)\n",
    "\n",
    "print(type(y))\n",
    "print(y.data)"
   ]
  },
  {
   "cell_type": "code",
   "execution_count": 21,
   "id": "00afde6d",
   "metadata": {},
   "outputs": [],
   "source": [
    "class Function:\n",
    "    def __call__(self, input):\n",
    "        x = input.data\n",
    "        y = self.forward(x)\n",
    "        output = Variable(y)\n",
    "        return output\n",
    "    \n",
    "    def forward(self):\n",
    "        raise NotImplementedError()"
   ]
  },
  {
   "cell_type": "code",
   "execution_count": 22,
   "id": "95294eb2",
   "metadata": {},
   "outputs": [],
   "source": [
    "class Square(Function):\n",
    "    def forward(self, x):\n",
    "        return x ** 2"
   ]
  },
  {
   "cell_type": "code",
   "execution_count": 23,
   "id": "931783c1",
   "metadata": {},
   "outputs": [
    {
     "name": "stdout",
     "output_type": "stream",
     "text": [
      "<class '__main__.Variable'>\n",
      "100\n"
     ]
    }
   ],
   "source": [
    "x = Variable(np.array(10))\n",
    "f = Square()\n",
    "y = f(x)\n",
    "print(type(y))\n",
    "print(y.data)"
   ]
  },
  {
   "attachments": {},
   "cell_type": "markdown",
   "id": "4a48b782",
   "metadata": {},
   "source": [
    "### Step 3 함수 연결"
   ]
  },
  {
   "cell_type": "code",
   "execution_count": 24,
   "id": "defed973",
   "metadata": {},
   "outputs": [],
   "source": [
    "class Exp(Function):\n",
    "    def forward(self, x):\n",
    "        return np.exp(x)"
   ]
  },
  {
   "cell_type": "code",
   "execution_count": 25,
   "id": "cbd920b4",
   "metadata": {},
   "outputs": [
    {
     "name": "stdout",
     "output_type": "stream",
     "text": [
      "1.648721270700128\n"
     ]
    }
   ],
   "source": [
    "A = Square()\n",
    "B = Exp()\n",
    "C = Square()\n",
    "\n",
    "x = Variable(np.array(0.5))\n",
    "a = A(x)\n",
    "b = B(a)\n",
    "y = C(b)\n",
    "print(y.data)\n"
   ]
  },
  {
   "attachments": {},
   "cell_type": "markdown",
   "id": "cbd8de6f",
   "metadata": {},
   "source": [
    "### Step 4 수치 미분\n",
    "\n",
    "- 수치 미분(numerical differentiation): 미세한 차이를 이용하여 함수의 변화량을 구하는 방법\n",
    "- 중앙 차분(centered difference): $\\frac{f(x+h) - f(x-h)}{2h}$ -> (수치 미분은 진정한 미분을 근사하는데) 근사 오차를 줄일 수 있는 방법\n",
    "- 전진 차분(forward difference): $\\frac{f(x+h) - f(x)}{h}$\n",
    "\n",
    "- 전진 차분보다 중앙 차분이 진정한 미분값에 가깝다 (증명: 테일러 급수 이용)\n",
    "\n",
    "##### 수치 미분의 문제점\n",
    "1. 결과에 오차가 포함된다\n",
    "- 이유: 자릿수 누락 때문\n",
    "- '차이'를 구하는 계산은 주로 크기가 비슷한 값을 다루기 때문에 계산 결과에서 자릿수 누락이 생겨 유효 자릿수가 줄어들 수 있다\n",
    "\n",
    "2. 계산량이 많다\n",
    "- 이유: 변수가 여러 개인 계산을 미분할 경우 변수 각각을 미분해야 하기 때문\n",
    "\n",
    "    => 역전파 등장\n",
    "\n",
    "- **수치 미분은 정확한 값을 얻을 수 있어서 역전파 구현을 검증할 때 사용된다 -> *기울기 확인 (gradient checking)***\n"
   ]
  },
  {
   "cell_type": "code",
   "execution_count": 26,
   "id": "0aef61f8",
   "metadata": {},
   "outputs": [],
   "source": [
    "def numerical_diff(f, x, eps=1e-4):\n",
    "    x0 = Variable(x.data - eps)\n",
    "    x1 = Variable(x.data + eps)\n",
    "    y0 = f(x0)\n",
    "    y1 = f(x1)\n",
    "    return (y1.data - y0.data) / (2 * eps)"
   ]
  },
  {
   "cell_type": "code",
   "execution_count": 27,
   "id": "a6c8b2ee",
   "metadata": {},
   "outputs": [
    {
     "data": {
      "text/plain": [
       "4.000000000004"
      ]
     },
     "execution_count": 27,
     "metadata": {},
     "output_type": "execute_result"
    }
   ],
   "source": [
    "f = Square()\n",
    "x = Variable(np.array(2.0))\n",
    "numerical_diff(f, x)"
   ]
  },
  {
   "cell_type": "code",
   "execution_count": 28,
   "id": "80274429",
   "metadata": {},
   "outputs": [
    {
     "name": "stdout",
     "output_type": "stream",
     "text": [
      "3.2974426293330694\n"
     ]
    }
   ],
   "source": [
    "def f(x):\n",
    "    '''f(x) = (e^(x^2))^2'''\n",
    "    A = Square()\n",
    "    B = Exp()\n",
    "    C = Square()\n",
    "    return C(B(A(x)))\n",
    "\n",
    "\n",
    "x = Variable(np.array(0.5))\n",
    "# f'(x) = 2*(e^(x^2))*e^(x^2)*2x\n",
    "dy = numerical_diff(f, x)\n",
    "print(dy)"
   ]
  },
  {
   "attachments": {},
   "cell_type": "markdown",
   "id": "7f5899b6",
   "metadata": {},
   "source": [
    "### Step 5 역전파 이론\n",
    "- 전파되는 데이터는 모두 y의 미분값 ($\\frac{dy}{dy}, \\frac{dy}{db}, \\frac{dy}{da}, \\frac{dy}{dx}$)\n",
    "\n",
    "- 손실함수의 각 매개변수에 대한 미분을 계산해야 함\n",
    "- 미분값을 출력에서 입력방향으로 전파하면 한 번의 전파만으로 모든 매개변수에 대한 미분을 계산할 수 있음 => 그래서 미분을 역전파하는 방식 사용\n",
    "- 변수는 '통상값', '미분값' 존재 / 함수는 '통상 계산(순전파)', '미분값을 구하기 위한 계산(역전파)' 존재\n",
    "- **역전파 시에는 순전파 시 이용한 데이터가 필요함**\n",
    "\n"
   ]
  },
  {
   "attachments": {},
   "cell_type": "markdown",
   "id": "51543d84",
   "metadata": {},
   "source": [
    "### Step 6 수동 역전파\n",
    "- 기울기(gradient): 다변수(e.g. 벡터, 행렬)에 대한 미분"
   ]
  },
  {
   "cell_type": "code",
   "execution_count": 29,
   "id": "9a65e5d7",
   "metadata": {},
   "outputs": [],
   "source": [
    "class Variable:\n",
    "    def __init__(self, data):\n",
    "        self.data = data\n",
    "        self.grad = None"
   ]
  },
  {
   "cell_type": "code",
   "execution_count": 30,
   "id": "c46175d3",
   "metadata": {},
   "outputs": [],
   "source": [
    "class Function:\n",
    "    def __call__(self, input):\n",
    "        x = input.data\n",
    "        y = self.forward(x)\n",
    "        output = Variable(y)\n",
    "        self.input = input # 입력 변수를 기억(보관)한다.\n",
    "        return output\n",
    "\n",
    "    def forward(self, x):\n",
    "        raise NotImplementedError\n",
    "    \n",
    "    def backward(self, gy):\n",
    "        raise NotImplementedError"
   ]
  },
  {
   "cell_type": "code",
   "execution_count": 31,
   "id": "94e83b3e",
   "metadata": {},
   "outputs": [],
   "source": [
    "class Square(Function):\n",
    "    def forward(self, x):\n",
    "        y = x ** 2\n",
    "        return y\n",
    "\n",
    "    def backward(self, gy):\n",
    "        x = self.input.data\n",
    "        gx = 2 * x * gy\n",
    "        return gx"
   ]
  },
  {
   "cell_type": "code",
   "execution_count": 32,
   "id": "56900b0f",
   "metadata": {},
   "outputs": [],
   "source": [
    "class Exp(Function):\n",
    "    def forward(self, x):\n",
    "        y = np.exp(x)\n",
    "        return y\n",
    "\n",
    "    def backward(self, gy):\n",
    "        x = self.input.data\n",
    "        gx = np.exp(x) * gy\n",
    "        return gx\n"
   ]
  },
  {
   "cell_type": "code",
   "execution_count": 33,
   "id": "3a0bc583",
   "metadata": {},
   "outputs": [],
   "source": [
    "A = Square()\n",
    "B = Exp()\n",
    "C = Square()\n",
    "\n",
    "x = Variable(np.array(0.5))\n",
    "a = A(x)\n",
    "b = B(a)\n",
    "y = C(b)"
   ]
  },
  {
   "cell_type": "code",
   "execution_count": 34,
   "id": "117df2fa",
   "metadata": {},
   "outputs": [
    {
     "name": "stdout",
     "output_type": "stream",
     "text": [
      "3.297442541400256\n"
     ]
    }
   ],
   "source": [
    "y.grad = np.array(1.0)\n",
    "b.grad = C.backward(y.grad)\n",
    "a.grad = B.backward(b.grad)\n",
    "x.grad = A.backward(a.grad)\n",
    "print(x.grad)"
   ]
  },
  {
   "attachments": {},
   "cell_type": "markdown",
   "id": "630f0632",
   "metadata": {},
   "source": [
    "### Step 7 역전파 자동화\n",
    "- Define-by-Run (동적 계산 그래프): 딥러닝에서 수행하는 계산들을 계산 시점에 '연결'하는 방식\n",
    "\n",
    "[참고]\n",
    "- 함수의 순서를 리스트로 저장해두면 나중에 거꾸로 추적하는 식으로 역전파를 자동화할 수 있다\n",
    "- 그러나 분기가 있는 계산 그래프 혹은 변수가 여러 번 사용되는 복잡한 계산 그래프는 단순 리스트로 저장하는 식으로 풀 수 없다\n",
    "- 리스트 데이터 구조를 응용하여 수행한 계산을 리스트에 추가해나가면 어떤 계산 그래프의 역전파도 해낼 수 있다 => 이 데이터 구조를 Wengert List 또는 Tape라고 한다.\n",
    "\n",
    "#### 변수와 함수의 관계?\n",
    "- 함수에게 변수는 '입력'과 '출력'\n",
    "- 변수에게 함수는 '창조자' 혹은 '부모'\n",
    "\n",
    "이 관계를 맺어주기 위해 `Variable`, `Function` 클래스에 각각 서로에 대한 정보를 넣어줌\n"
   ]
  },
  {
   "cell_type": "code",
   "execution_count": 35,
   "id": "39747959",
   "metadata": {},
   "outputs": [],
   "source": [
    "class Variable:\n",
    "    def __init__(self, data):\n",
    "        self.data = data\n",
    "        self.grad = None\n",
    "        self.creator = None\n",
    "\n",
    "    def set_creator(self, func):\n",
    "        self.creator = func"
   ]
  },
  {
   "cell_type": "code",
   "execution_count": 36,
   "id": "5f309fd4",
   "metadata": {},
   "outputs": [],
   "source": [
    "class Function:\n",
    "    def __call__(self, input):\n",
    "        x = input.data\n",
    "        y = self.forward(x)\n",
    "        output = Variable(y)\n",
    "        output.set_creator(self) # 출력 변수에 창조자를 설정한다.\n",
    "        self.input = input\n",
    "        self.output = output # 출력도 저장\n",
    "        return output"
   ]
  },
  {
   "cell_type": "code",
   "execution_count": 37,
   "id": "a458b1f2",
   "metadata": {},
   "outputs": [],
   "source": [
    "class Square(Function):\n",
    "    def forward(self, x):\n",
    "        y = x ** 2\n",
    "        return y\n",
    "\n",
    "    def backward(self, gy):\n",
    "        x = self.input.data\n",
    "        gx = 2 * x * gy\n",
    "        return gx\n",
    "\n",
    "class Exp(Function):\n",
    "    def forward(self, x):\n",
    "        y = np.exp(x)\n",
    "        return y\n",
    "\n",
    "    def backward(self, gy):\n",
    "        x = self.input.data\n",
    "        gx = np.exp(x) * gy\n",
    "        return gx\n"
   ]
  },
  {
   "cell_type": "code",
   "execution_count": 38,
   "id": "5cdf6c5e",
   "metadata": {},
   "outputs": [],
   "source": [
    "A = Square()\n",
    "B = Exp()\n",
    "C = Square()\n",
    "\n",
    "x = Variable(np.array(0.5))\n",
    "\n",
    "a = A(x)\n",
    "b = B(a)\n",
    "y = C(b)\n",
    "\n",
    "assert y.creator == C\n",
    "assert y.creator.input == b\n",
    "assert y.creator.input.creator == B\n",
    "assert y.creator.input.creator.input == a\n",
    "assert y.creator.input.creator.input.creator == A\n",
    "assert y.creator.input.creator.input.creator.input == x"
   ]
  },
  {
   "cell_type": "code",
   "execution_count": 39,
   "id": "59e24e54",
   "metadata": {},
   "outputs": [],
   "source": [
    "y.grad = np.array(1.0)\n",
    "\n",
    "C = y.creator # 1. 함수를 가져온다.\n",
    "b = C.input # 2. 함수의 입력을 가져온다.\n",
    "b.grad = C.backward(y.grad) # 3. 함수의 backward 메서드를 호출한다."
   ]
  },
  {
   "cell_type": "code",
   "execution_count": 40,
   "id": "0743ff24",
   "metadata": {},
   "outputs": [],
   "source": [
    "B = b.creator\n",
    "a = B.input\n",
    "a.grad = B.backward(b.grad)"
   ]
  },
  {
   "cell_type": "code",
   "execution_count": 41,
   "id": "65bf1670",
   "metadata": {},
   "outputs": [
    {
     "name": "stdout",
     "output_type": "stream",
     "text": [
      "3.297442541400256\n"
     ]
    }
   ],
   "source": [
    "A = a.creator\n",
    "x = A.input\n",
    "x.grad = A.backward(a.grad)\n",
    "print(x.grad)"
   ]
  },
  {
   "cell_type": "code",
   "execution_count": 42,
   "id": "937c02d3",
   "metadata": {},
   "outputs": [],
   "source": [
    "class Variable:\n",
    "    def __init__(self, data) -> None:\n",
    "        self.data = data\n",
    "        self.grad = None\n",
    "        self.creator = None\n",
    "    \n",
    "    def set_creator(self, func):\n",
    "        self.creator = func\n",
    "\n",
    "    def backward(self):\n",
    "        f = self.creator\n",
    "        if f is not None:\n",
    "            x = f.input\n",
    "            x.grad = f.backward(self.grad)\n",
    "            x.backward()"
   ]
  },
  {
   "cell_type": "code",
   "execution_count": 43,
   "id": "d0ea5e20",
   "metadata": {},
   "outputs": [
    {
     "name": "stdout",
     "output_type": "stream",
     "text": [
      "3.297442541400256\n"
     ]
    }
   ],
   "source": [
    "A = Square()\n",
    "B = Exp()\n",
    "C = Square()\n",
    "\n",
    "x = Variable(np.array(0.5))\n",
    "\n",
    "a = A(x)\n",
    "b = B(a)\n",
    "y = C(b)\n",
    "\n",
    "# 역전파\n",
    "y.grad = np.array(1.0)\n",
    "y.backward()\n",
    "print(x.grad)"
   ]
  },
  {
   "attachments": {},
   "cell_type": "markdown",
   "id": "112d1867",
   "metadata": {},
   "source": [
    "### Step 8 재귀에서 반복문으로\n",
    "- 반복문으로 바꾸는 이유\n",
    "    1. 효율성: 재귀는 함수를 재귀적으로 호출할 때마다 중간 결과를 메모리에 유지하면서 (스택에 쌓으면서) 처리를 이어가기 때문에 일반적으로 반복문 방식이 효율이 더 좋다\n",
    "    \n",
    "    2. 확장성: 복잡한 계산 그래프를 다룰 때 더 부드럽게 확장 가능\n",
    "\n",
    "- 꼬리 재귀(tail recursion) 기법을 이용하여 재귀를 반복문처럼 실행할 수 있는 경우도 있다"
   ]
  },
  {
   "cell_type": "code",
   "execution_count": 44,
   "id": "49fbc798",
   "metadata": {},
   "outputs": [],
   "source": [
    "class Variable:\n",
    "    def __init__(self, data) -> None:\n",
    "        self.data = data\n",
    "        self.grad = None\n",
    "        self.creator = None\n",
    "    \n",
    "    def set_creator(self, func):\n",
    "        self.creator = func\n",
    "\n",
    "    def backward(self):\n",
    "        funcs = [self.creator]\n",
    "        while funcs:\n",
    "            f = funcs.pop()\n",
    "            x, y = f.input, f.output\n",
    "            x.grad = f.backward(y.grad)\n",
    "\n",
    "            if x.creator is not None:\n",
    "                funcs.append(x.creator)"
   ]
  },
  {
   "cell_type": "code",
   "execution_count": 45,
   "id": "0ecf61f2",
   "metadata": {},
   "outputs": [
    {
     "name": "stdout",
     "output_type": "stream",
     "text": [
      "3.297442541400256\n"
     ]
    }
   ],
   "source": [
    "A = Square()\n",
    "B = Exp()\n",
    "C = Square()\n",
    "\n",
    "x = Variable(np.array(0.5))\n",
    "\n",
    "a = A(x)\n",
    "b = B(a)\n",
    "y = C(b)\n",
    "\n",
    "# 역전파\n",
    "y.grad = np.array(1.0)\n",
    "y.backward()\n",
    "print(x.grad)\n"
   ]
  },
  {
   "attachments": {},
   "cell_type": "markdown",
   "id": "17238d4b",
   "metadata": {},
   "source": [
    "### Step 9 함수를 더 편리하게"
   ]
  },
  {
   "cell_type": "code",
   "execution_count": 46,
   "id": "23a241fb",
   "metadata": {},
   "outputs": [],
   "source": [
    "def square(x):\n",
    "    # f = Square()\n",
    "    # return f(x)\n",
    "    return Square()(x)\n",
    "\n",
    "def exp(x):\n",
    "    return Exp()(x)\n"
   ]
  },
  {
   "cell_type": "code",
   "execution_count": 47,
   "id": "62b17dcf",
   "metadata": {},
   "outputs": [
    {
     "name": "stdout",
     "output_type": "stream",
     "text": [
      "x grad: 3.297442541400256, a grad: 3.297442541400256, b grad: 2.568050833375483, y grad: 1.0\n"
     ]
    }
   ],
   "source": [
    "x = Variable(np.array(0.5))\n",
    "a = square(x)\n",
    "b = exp(a)\n",
    "y = square(b)\n",
    "\n",
    "y.grad = np.array(1.0)\n",
    "y.backward()\n",
    "print(f'x grad: {x.grad}, a grad: {a.grad}, b grad: {b.grad}, y grad: {y.grad}')"
   ]
  },
  {
   "attachments": {},
   "cell_type": "markdown",
   "id": "c6c3632e",
   "metadata": {},
   "source": [
    "##### `np.ones_like(self.data)` : self.data와 형상과 데이터 타입이 같은 ndarray 인스턴스를 생성하고 요소를 1로 채워준다"
   ]
  },
  {
   "cell_type": "code",
   "execution_count": 48,
   "id": "ca1f04fd",
   "metadata": {},
   "outputs": [],
   "source": [
    "class Variable:\n",
    "    def __init__(self, data) -> None:\n",
    "        self.data = data\n",
    "        self.grad = None\n",
    "        self.creator = None\n",
    "    \n",
    "    def set_creator(self, func):\n",
    "        self.creator = func\n",
    "\n",
    "    def backward(self):\n",
    "        if self.grad is None:\n",
    "            self.grad = np.ones_like(self.data)\n",
    "            \n",
    "        funcs = [self.creator]\n",
    "        while funcs:\n",
    "            f = funcs.pop()\n",
    "            x, y = f.input, f.output\n",
    "            x.grad = f.backward(y.grad)\n",
    "\n",
    "            if x.creator is not None:\n",
    "                funcs.append(x.creator)"
   ]
  },
  {
   "cell_type": "code",
   "execution_count": 49,
   "id": "e821c527",
   "metadata": {},
   "outputs": [
    {
     "name": "stdout",
     "output_type": "stream",
     "text": [
      "3.297442541400256\n"
     ]
    }
   ],
   "source": [
    "x = Variable(np.array(0.5))\n",
    "y = square(exp(square(x)))\n",
    "y.backward()\n",
    "print(x.grad)"
   ]
  },
  {
   "attachments": {},
   "cell_type": "markdown",
   "id": "12afb6d6",
   "metadata": {},
   "source": [
    "#### ndarray만 취급"
   ]
  },
  {
   "cell_type": "code",
   "execution_count": 50,
   "id": "c96f8d38",
   "metadata": {},
   "outputs": [],
   "source": [
    "class Variable:\n",
    "    def __init__(self, data) -> None:\n",
    "        if data is not None:\n",
    "            if not isinstance(data, np.ndarray):\n",
    "                raise TypeError('{}은(는) 지원하지 않습니다.'.format(type(data)))\n",
    "                \n",
    "        self.data = data\n",
    "        self.grad = None\n",
    "        self.creator = None\n",
    "    \n",
    "    def set_creator(self, func):\n",
    "        self.creator = func\n",
    "\n",
    "    def backward(self):\n",
    "        if self.grad is None:\n",
    "            self.grad = np.ones_like(self.data)\n",
    "            \n",
    "        funcs = [self.creator]\n",
    "        while funcs:\n",
    "            f = funcs.pop()\n",
    "            x, y = f.input, f.output\n",
    "            x.grad = f.backward(y.grad)\n",
    "\n",
    "            if x.creator is not None:\n",
    "                funcs.append(x.creator)"
   ]
  },
  {
   "cell_type": "code",
   "execution_count": 51,
   "id": "21fe68e1",
   "metadata": {},
   "outputs": [],
   "source": [
    "x = Variable(None)"
   ]
  },
  {
   "cell_type": "code",
   "execution_count": 52,
   "id": "9009f0f5",
   "metadata": {},
   "outputs": [
    {
     "ename": "TypeError",
     "evalue": "<class 'int'>은(는) 지원하지 않습니다.",
     "output_type": "error",
     "traceback": [
      "\u001b[1;31m---------------------------------------------------------------------------\u001b[0m",
      "\u001b[1;31mTypeError\u001b[0m                                 Traceback (most recent call last)",
      "\u001b[1;32m~\\AppData\\Local\\Temp/ipykernel_41712/1295077533.py\u001b[0m in \u001b[0;36m<module>\u001b[1;34m\u001b[0m\n\u001b[1;32m----> 1\u001b[1;33m \u001b[0mx\u001b[0m \u001b[1;33m=\u001b[0m \u001b[0mVariable\u001b[0m\u001b[1;33m(\u001b[0m\u001b[1;36m1\u001b[0m\u001b[1;33m)\u001b[0m\u001b[1;33m\u001b[0m\u001b[1;33m\u001b[0m\u001b[0m\n\u001b[0m",
      "\u001b[1;32m~\\AppData\\Local\\Temp/ipykernel_41712/1738446968.py\u001b[0m in \u001b[0;36m__init__\u001b[1;34m(self, data)\u001b[0m\n\u001b[0;32m      3\u001b[0m         \u001b[1;32mif\u001b[0m \u001b[0mdata\u001b[0m \u001b[1;32mis\u001b[0m \u001b[1;32mnot\u001b[0m \u001b[1;32mNone\u001b[0m\u001b[1;33m:\u001b[0m\u001b[1;33m\u001b[0m\u001b[1;33m\u001b[0m\u001b[0m\n\u001b[0;32m      4\u001b[0m             \u001b[1;32mif\u001b[0m \u001b[1;32mnot\u001b[0m \u001b[0misinstance\u001b[0m\u001b[1;33m(\u001b[0m\u001b[0mdata\u001b[0m\u001b[1;33m,\u001b[0m \u001b[0mnp\u001b[0m\u001b[1;33m.\u001b[0m\u001b[0mndarray\u001b[0m\u001b[1;33m)\u001b[0m\u001b[1;33m:\u001b[0m\u001b[1;33m\u001b[0m\u001b[1;33m\u001b[0m\u001b[0m\n\u001b[1;32m----> 5\u001b[1;33m                 \u001b[1;32mraise\u001b[0m \u001b[0mTypeError\u001b[0m\u001b[1;33m(\u001b[0m\u001b[1;34m'{}은(는) 지원하지 않습니다.'\u001b[0m\u001b[1;33m.\u001b[0m\u001b[0mformat\u001b[0m\u001b[1;33m(\u001b[0m\u001b[0mtype\u001b[0m\u001b[1;33m(\u001b[0m\u001b[0mdata\u001b[0m\u001b[1;33m)\u001b[0m\u001b[1;33m)\u001b[0m\u001b[1;33m)\u001b[0m\u001b[1;33m\u001b[0m\u001b[1;33m\u001b[0m\u001b[0m\n\u001b[0m\u001b[0;32m      6\u001b[0m \u001b[1;33m\u001b[0m\u001b[0m\n\u001b[0;32m      7\u001b[0m         \u001b[0mself\u001b[0m\u001b[1;33m.\u001b[0m\u001b[0mdata\u001b[0m \u001b[1;33m=\u001b[0m \u001b[0mdata\u001b[0m\u001b[1;33m\u001b[0m\u001b[1;33m\u001b[0m\u001b[0m\n",
      "\u001b[1;31mTypeError\u001b[0m: <class 'int'>은(는) 지원하지 않습니다."
     ]
    }
   ],
   "source": [
    "x = Variable(1)"
   ]
  },
  {
   "cell_type": "code",
   "execution_count": 53,
   "id": "fff9c5fa",
   "metadata": {},
   "outputs": [],
   "source": [
    "def as_array(x):\n",
    "    if np.isscalar(x):\n",
    "        return np.array(x)\n",
    "    return x"
   ]
  },
  {
   "cell_type": "code",
   "execution_count": 54,
   "id": "5370daa8",
   "metadata": {},
   "outputs": [],
   "source": [
    "class Function:\n",
    "    def __call__(self, input):\n",
    "        x = input.data\n",
    "        y = self.forward(x)\n",
    "        output = Variable(as_array(y))\n",
    "        output.set_creator(self) # 출력 변수에 창조자를 설정한다.\n",
    "        self.input = input\n",
    "        self.output = output # 출력도 저장\n",
    "        return output"
   ]
  },
  {
   "attachments": {},
   "cell_type": "markdown",
   "id": "c9626f1d",
   "metadata": {},
   "source": [
    "### Step 10 테스트\n",
    "- 테스트 할 때는 이름이 test로 시작하는 메서드를 만들고 그 안에 테스트할 내용을 적는다\n",
    "- `self.assertEqual`, `self.assertGreater`, `self.assertTrue`\n",
    "\n",
    "- 테스트 실행:\n",
    "    - `$ python -m unittest 파일명.py` \n",
    "    (파일명은 기본적으로 test*.py 형태, 변경 가능)\n",
    "    \n",
    "    - 혹은 파일 끝에 `unittest.main()` 추가 후 실행\n",
    "\n",
    "\n",
    "- 디렉터리에 들어있는 모든 테스트 한번에 실행\n",
    "    - `$ python -m unittest discover 디렉터리명`\n",
    "\n",
    "\n",
    "- 지속적 통합(CI, continuous integration) 서비스: 깃허브 저장소에 이 서비스를 연계하면 코드를 푸시하고, 풀리퀘스트를 병합하고, 매시간 자동으로 테스트 실행되도록 설정할 수 있다\n",
    "\n",
    "- 깃허브 저장소를 CI (continuous integration) 도구와 연계하면 소스코드를 지속해서 테스트할 수 있다 => 코드의 신뢰성 유지\n"
   ]
  },
  {
   "cell_type": "code",
   "execution_count": 55,
   "id": "0c7a9708",
   "metadata": {},
   "outputs": [],
   "source": [
    "import unittest\n",
    "class SquareTest(unittest.TestCase):\n",
    "    def test_forward(self):\n",
    "        x = Variable(np.array(2.0))\n",
    "        y = square(x)\n",
    "        expected = np.array(4.0)\n",
    "        self.assertEqual(y.data, expected)"
   ]
  },
  {
   "attachments": {},
   "cell_type": "markdown",
   "id": "5f6f90a9",
   "metadata": {},
   "source": [
    "---"
   ]
  },
  {
   "attachments": {},
   "cell_type": "markdown",
   "id": "3ee8d2b8",
   "metadata": {},
   "source": [
    "컴퓨터로 미분을 계산하는 방법 3가지\n",
    "1. 수치 미분 (numerical differentiation)\n",
    "2. 기호 미분 (symbolic differentiation)\n",
    "    - 미분 공식 이용\n",
    "    - 입력, 출력이 모두 '수식'\n",
    "3. 자동 미분 (automatic differentiation)\n",
    "    - 연쇄 법칙(chain rule)을 사용하여 미분하는 방법\n",
    "    - forward 모드, reverse 모드로 나눌 수 있다\n",
    "    - 역전파는 reverse 모드 자동 미분\n",
    "\n",
    "*역전파\n",
    "- 출력이 하나뿐이고 그 하나의 출력 변수를 미분하려면 reverse 모드 자동미분이 적합\n",
    "- 머신러닝은 대부분 출력이 변수 하나로 모아지는 문제를 다루기 때문에 reverse 모드 자동 미분이 사용된다"
   ]
  }
 ],
 "metadata": {
  "kernelspec": {
   "display_name": "Python 3 (ipykernel)",
   "language": "python",
   "name": "python3"
  },
  "language_info": {
   "codemirror_mode": {
    "name": "ipython",
    "version": 3
   },
   "file_extension": ".py",
   "mimetype": "text/x-python",
   "name": "python",
   "nbconvert_exporter": "python",
   "pygments_lexer": "ipython3",
   "version": "3.8.12"
  },
  "vscode": {
   "interpreter": {
    "hash": "79e12847f48820b872cc8b14b94f40a7d044786e6f0c7be066ea50d15d55bebf"
   }
  }
 },
 "nbformat": 4,
 "nbformat_minor": 5
}
