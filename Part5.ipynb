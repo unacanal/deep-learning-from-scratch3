{
 "cells": [
  {
   "cell_type": "markdown",
   "metadata": {},
   "source": [
    "### Step 52 GPU 지원\n",
    "\n",
    "- 딥러닝에서의 계산은 대부분 행렬의 곱\n",
    "- 행렬의 곱은 곱셈과 덧셈으로 구성되므로 병렬로 계산 가능\n",
    "- 병렬 계산에는 GPU가 뛰어남\n",
    "- GPU 실행을 위해 NVIDIA GPU와 파이썬 라이브러리 `CuPy`가 필요"
   ]
  },
  {
   "cell_type": "markdown",
   "metadata": {},
   "source": [
    "### Step 53 모델 저장 및 읽어오기"
   ]
  },
  {
   "cell_type": "markdown",
   "metadata": {},
   "source": [
    "### Step 54 드롭아웃과 테스트모드"
   ]
  },
  {
   "cell_type": "markdown",
   "metadata": {},
   "source": [
    "### Step 55 CNN 메커니즘(1)"
   ]
  },
  {
   "cell_type": "markdown",
   "metadata": {},
   "source": [
    "### Step 56 CNN 메커니즘(2)"
   ]
  },
  {
   "cell_type": "markdown",
   "metadata": {},
   "source": [
    "### Step 57 conv2d 함수와 pooling 함수"
   ]
  },
  {
   "cell_type": "markdown",
   "metadata": {},
   "source": [
    "### Step 58 대표적인 CNN (VGG19)"
   ]
  },
  {
   "cell_type": "markdown",
   "metadata": {},
   "source": [
    "### Step 59 RNN을 활용한 시계열 데이터 처리"
   ]
  },
  {
   "cell_type": "markdown",
   "metadata": {},
   "source": [
    "### Step 60 LSTM과 데이터 로더"
   ]
  }
 ],
 "metadata": {
  "kernelspec": {
   "display_name": "labelme",
   "language": "python",
   "name": "labelme"
  },
  "language_info": {
   "codemirror_mode": {
    "name": "ipython",
    "version": 3
   },
   "file_extension": ".py",
   "mimetype": "text/x-python",
   "name": "python",
   "nbconvert_exporter": "python",
   "pygments_lexer": "ipython3",
   "version": "3.6.13"
  },
  "vscode": {
   "interpreter": {
    "hash": "79e12847f48820b872cc8b14b94f40a7d044786e6f0c7be066ea50d15d55bebf"
   }
  }
 },
 "nbformat": 4,
 "nbformat_minor": 2
}
